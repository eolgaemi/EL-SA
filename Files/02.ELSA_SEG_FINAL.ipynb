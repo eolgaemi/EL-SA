{
 "cells": [
  {
   "cell_type": "code",
   "execution_count": null,
   "id": "7d622a20-aa09-4441-86ba-81dff4f48a14",
   "metadata": {},
   "outputs": [],
   "source": [
    "import ultralytics\n",
    "\n",
    "ultralytics.checks()"
   ]
  },
  {
   "cell_type": "code",
   "execution_count": null,
   "id": "b44a9f69-a524-400e-89ad-0465bd7650d7",
   "metadata": {},
   "outputs": [],
   "source": [
    "import requests\n",
    "\n",
    "# 다운로드할 파일의 URL\n",
    "# url = 'https://app.roboflow.com/ds/4mDK5NNM78?key=H7QnKFJRSB'\n",
    "url = 'https://app.roboflow.com/ds/iHZOUmiEV1?key=eemoNA9dh1'\n",
    "# 요청을 보내고 응답을 받습니다.\n",
    "r = requests.get(url, allow_redirects=True)\n",
    "\n",
    "# 파일로 저장합니다.\n",
    "open('ELSA_seg.zip', 'wb').write(r.content)"
   ]
  },
  {
   "cell_type": "code",
   "execution_count": null,
   "id": "5edb3a44-e478-4cb1-8247-295205464d6f",
   "metadata": {},
   "outputs": [],
   "source": [
    "import zipfile\n",
    "\n",
    "with zipfile.ZipFile('./ELSA_seg.zip') as target_file:\n",
    "    target_file.extractall('./ELSA_seg_/')"
   ]
  },
  {
   "cell_type": "code",
   "execution_count": null,
   "id": "ff44c4c8-ee95-4797-a025-eaa8c12a0488",
   "metadata": {},
   "outputs": [],
   "source": [
    "!type \"C:\\Users\\USER\\Documents\\Documents\\Documents\\Detection\\ELSA_seg\\ELSA_seg.yaml\""
   ]
  },
  {
   "cell_type": "code",
   "execution_count": null,
   "id": "e88f4362-f99c-4534-b069-6a2e636eb279",
   "metadata": {},
   "outputs": [],
   "source": [
    "!pip install PyYAML"
   ]
  },
  {
   "cell_type": "code",
   "execution_count": null,
   "id": "eb00cf00-e7f3-4e17-9b95-0ddcb995ceb1",
   "metadata": {},
   "outputs": [],
   "source": [
    "import yaml\n",
    "\n",
    "data = {\n",
    "    'train': 'C:/Users/USER/Documents/Documents/Documents/Detection/ELSA_seg_2/train/images',\n",
    "    'val': 'C:/Users/USER/Documents/Documents/Documents/Detection/ELSA_seg_2/valid/images',\n",
    "    'test': 'C:/Users/USER/Documents/Documents/Documents/Detection/ELSA_seg_2/test/images',\n",
    "\n",
    "    'names': ['cane', 'crutches', 'walker', 'wheelchair'],\n",
    "    'nc': 4\n",
    "}\n",
    "\n",
    "# 데이터 경로와 클래스 정보를 저장하고 있는 딕셔너리 객체 data를 YOLOv8 학습에 필요한 새로운 이름으로 저장\n",
    "with open(\"C:/Users/USER/Documents/Documents/Documents/Detection/ELSA_seg/ELSA_seg.yaml\", 'w') as f:\n",
    "  yaml.dump(data, f)\n",
    "\n",
    "# ELSA_seg.yaml 읽어서 화면에 출력\n",
    "with open(\"C:/Users/USER/Documents/Documents/Documents/Detection/ELSA_seg/ELSA_seg.yaml\", 'r') as f:\n",
    "  ELSA2_yaml = yaml.safe_load(f)\n",
    "  display(ELSA2_yaml)"
   ]
  },
  {
   "cell_type": "code",
   "execution_count": null,
   "id": "91b68d09-ffc9-4e72-890d-583b3bb915f2",
   "metadata": {},
   "outputs": [],
   "source": [
    "# YOLO 가져오기\n",
    "from ultralytics import YOLO   # code here\n",
    "\n",
    "# 'yolov8n-seg.pt' 모델 선언하기\n",
    "model = YOLO('yolov8n-seg.pt')  # code here\n",
    "\n",
    "print(type(model.names), len(model.names))\n",
    "\n",
    "print(model.names)"
   ]
  },
  {
   "cell_type": "code",
   "execution_count": null,
   "id": "f21f8c96-2089-459c-9085-08bfd6a4aa10",
   "metadata": {},
   "outputs": [],
   "source": [
    "# 모델 학습하기 (자신의 만든 yaml파일 지정)\n",
    "model.train(data='C:/Users/USER/Documents/Documents/Documents/Detection/ELSA_seg/ELSA_seg.yaml', epochs=100,patience=10, batch=16, imgsz=640)"
   ]
  },
  {
   "cell_type": "code",
   "execution_count": null,
   "id": "fc62311c-46db-41b0-9440-1a0c42ffae43",
   "metadata": {},
   "outputs": [],
   "source": [
    "print(type(model.names), len(model.names))\n",
    "\n",
    "print(model.names)"
   ]
  },
  {
   "cell_type": "code",
   "execution_count": null,
   "id": "a62457f2-b425-462c-90e7-ddcdd835d864",
   "metadata": {},
   "outputs": [],
   "source": [
    "from glob import glob\n",
    "\n",
    "test_image_list = glob('C:/Users/USER/Documents/Documents/Documents/Detection/ELSA_seg/test/images/*')\n",
    "test_image_list.sort()\n",
    "\n",
    "for i in range(len(test_image_list)):\n",
    "    print('i = ',i, test_image_list[i])"
   ]
  },
  {
   "cell_type": "code",
   "execution_count": null,
   "id": "5b2868af-ab7c-4717-9334-a5867aaeff9d",
   "metadata": {},
   "outputs": [],
   "source": [
    "results = model.predict(source='./ELSA_seg/test/images/', save=True)"
   ]
  },
  {
   "cell_type": "code",
   "execution_count": null,
   "id": "c944e2c9-c285-44fc-82bb-f3a977a5e3a3",
   "metadata": {},
   "outputs": [],
   "source": [
    "print(type(results), len(results))"
   ]
  },
  {
   "cell_type": "code",
   "execution_count": null,
   "id": "c8f69586-49e2-4aac-b355-cab53e333759",
   "metadata": {},
   "outputs": [],
   "source": [
    "import numpy as np\n",
    "\n",
    "for result in results:\n",
    "    uniq, cnt = np.unique(result.boxes.cls.cpu().numpy(), return_counts=True)  # Torch.Tensor -> numpy\n",
    "    uniq_cnt_dict = dict(zip(uniq, cnt))\n",
    "\n",
    "    print('\\n{class num : counts} =', uniq_cnt_dict,'\\n')\n",
    "\n",
    "    for i, c in enumerate(result.boxes.cls):\n",
    "        class_id = int(c)\n",
    "        class_name = result.names[class_id]\n",
    "        confidence_score = result.boxes.conf[i]  # 예측 확률\n",
    "        print(f'class num: {class_id:>2} , class name: {class_name :<13}, confidence: {confidence_score:.2f}')"
   ]
  },
  {
   "cell_type": "code",
   "execution_count": null,
   "id": "b409d9b0-7c04-48a4-92f1-236a3a4164bc",
   "metadata": {},
   "outputs": [],
   "source": [
    "# 테스트 이미지 모두 예측 결과 이미지로 나타내기\n",
    "from PIL import Image\n",
    "from IPython.display import display\n",
    "import os\n",
    "\n",
    "# 이미지가 저장된 폴더 경로 << 매번 바뀌어야 하는 경로\n",
    "image_dir = './runs/segment/predict'\n",
    "\n",
    "# 폴더 내의 모든 파일을 순회\n",
    "for file_name in os.listdir(image_dir) :\n",
    "    file_path = os.path.join(image_dir,file_name)\n",
    "    if file_path.endswith('.jpg') :\n",
    "      with Image.open(file_path) as img:\n",
    "        display(img)"
   ]
  },
  {
   "cell_type": "code",
   "execution_count": null,
   "id": "c8cf42b0-c62f-4707-a3e6-c6d2f85c29c8",
   "metadata": {},
   "outputs": [],
   "source": [
    "!pip install pafy"
   ]
  },
  {
   "cell_type": "code",
   "execution_count": null,
   "id": "5311f2e0-6322-42f9-bd77-805230a2f95a",
   "metadata": {},
   "outputs": [],
   "source": [
    "import cv2\n",
    "from ultralytics import YOLO\n",
    "import numpy as np\n",
    "import pafy\n",
    "\n",
    "# 학습된 모델을 로드합니다.\"C:\\Users\\USER\\Desktop\\yolov5\\runs\\detect\\train5\\weights\\best.pt\"\n",
    "model = YOLO('C:/Users/USER/Documents/Documents/Documents/Detection/runs/segment/train4/weights/best.pt')\n",
    "\n",
    "# 웹캠 초기화\n",
    "cap = cv2.VideoCapture('./elevator_cane_out.mp4')\n",
    "\n",
    "\n",
    "while True:\n",
    "    ret, frame = cap.read()\n",
    "    if not ret:\n",
    "        break\n",
    "\n",
    "    # 모델을 사용하여 프레임에서 객체 감지\n",
    "    results = model(frame)\n",
    "\n",
    "    annotated_frame = frame  # 기본적으로 원본 프레임으로 초기화\n",
    "\n",
    "    for result in results:\n",
    "        try:\n",
    "            # 예측 결과를 그리기\n",
    "            annotated_frame = result.plot()\n",
    "        except Exception as e:\n",
    "            print(f\"Error plotting results: {e}\")\n",
    "\n",
    "    # 화면에 표시\n",
    "    cv2.imshow(\"YOLOv8 Real-Time Detection\", annotated_frame)\n",
    "    if cv2.waitKey(1) & 0xFF == ord('q'):\n",
    "        break\n",
    "\n",
    "cap.release()\n",
    "cv2.destroyAllWindows()"
   ]
  },
  {
   "cell_type": "code",
   "execution_count": null,
   "id": "69eb74f9-f101-4afa-b4c4-65bb9dde3ef2",
   "metadata": {},
   "outputs": [],
   "source": [
    "!pip install youtube-dl"
   ]
  },
  {
   "cell_type": "code",
   "execution_count": null,
   "id": "f2e24d75-7548-49b4-9aa9-b4bf2aef3148",
   "metadata": {},
   "outputs": [],
   "source": [
    "!pip install --upgrade youtube-dl"
   ]
  },
  {
   "cell_type": "code",
   "execution_count": null,
   "id": "67fe92f5-28ca-47dd-8ccd-065bea584dec",
   "metadata": {},
   "outputs": [],
   "source": [
    "!pip install --upgrade pip"
   ]
  },
  {
   "cell_type": "code",
   "execution_count": null,
   "id": "b20bc765-edac-49c8-9687-228c7df59ad5",
   "metadata": {},
   "outputs": [],
   "source": [
    "model = YOLO('C:/Users/USER/Documents/Documents/Documents/Detection/runs/segment/train2/weights/best.pt')\n",
    "\n",
    "# 웹캠 초기화\n",
    "cap = cv2.VideoCapture(0)\n",
    "\n",
    "while True:\n",
    "    ret, frame = cap.read()\n",
    "    if not ret:\n",
    "        break\n",
    "\n",
    "    # 모델을 사용하여 프레임에서 객체 감지\n",
    "    results = model(frame)\n",
    "\n",
    "    annotated_frame = frame  # 기본적으로 원본 프레임으로 초기화\n",
    "\n",
    "    for result in results:\n",
    "        try:\n",
    "            # 예측 결과를 그리기\n",
    "            annotated_frame = result.plot()\n",
    "        except Exception as e:\n",
    "            print(f\"Error plotting results: {e}\")\n",
    "\n",
    "    # 화면에 표시\n",
    "    cv2.imshow(\"YOLOv8 Real-Time Detection\", annotated_frame)\n",
    "    if cv2.waitKey(1) & 0xFF == ord('q'):\n",
    "        break\n",
    "\n",
    "cap.release()\n",
    "cv2.destroyAllWindows()"
   ]
  },
  {
   "cell_type": "code",
   "execution_count": null,
   "id": "ceeb4609-bb28-4536-a1c8-12f020b340ac",
   "metadata": {},
   "outputs": [],
   "source": []
  }
 ],
 "metadata": {
  "kernelspec": {
   "display_name": "my_gpu_env",
   "language": "python",
   "name": "my_gpu_env"
  },
  "language_info": {
   "codemirror_mode": {
    "name": "ipython",
    "version": 3
   },
   "file_extension": ".py",
   "mimetype": "text/x-python",
   "name": "python",
   "nbconvert_exporter": "python",
   "pygments_lexer": "ipython3",
   "version": "3.10.14"
  }
 },
 "nbformat": 4,
 "nbformat_minor": 5
}
